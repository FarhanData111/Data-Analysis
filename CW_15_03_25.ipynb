{
  "nbformat": 4,
  "nbformat_minor": 0,
  "metadata": {
    "colab": {
      "provenance": []
    },
    "kernelspec": {
      "name": "python3",
      "display_name": "Python 3"
    },
    "language_info": {
      "name": "python"
    }
  },
  "cells": [
    {
      "cell_type": "code",
      "execution_count": null,
      "metadata": {
        "colab": {
          "base_uri": "https://localhost:8080/"
        },
        "id": "IMm1eWgAGylR",
        "outputId": "f8c0fcca-b633-4aaa-aaa6-ec944d422756"
      },
      "outputs": [
        {
          "name": "stdout",
          "output_type": "stream",
          "text": [
            "Hello world\n",
            "Enter value of a7\n",
            "Enter value of b7\n",
            "Enter a operator+\n"
          ]
        },
        {
          "output_type": "execute_result",
          "data": {
            "text/plain": [
              "14"
            ]
          },
          "metadata": {},
          "execution_count": 103
        }
      ],
      "source": [
        "def Hello():\n",
        "  print(\"Hello world\")\n",
        "Hello()\n",
        "\n",
        "\n",
        "def calculator():\n",
        "  a=int(input(\"Enter value of a\"))\n",
        "  b=int(input(\"Enter value of b\"))\n",
        "  operator=(input(\"Enter a operator\"))\n",
        "\n",
        "  if operator ==\"+\":\n",
        "    return a+b\n",
        "  elif operator ==\"-\":\n",
        "    return a-b\n",
        "  elif operator ==\"*\":\n",
        "    return a*b\n",
        "  elif operator ==\"/\":\n",
        "    return a/b\n",
        "\n",
        "  else:\n",
        "    print(\"Invalid Operator\")\n",
        "\n",
        "calculator()\n"
      ]
    },
    {
      "cell_type": "code",
      "source": [],
      "metadata": {
        "id": "OWiqD63_V1jg"
      },
      "execution_count": null,
      "outputs": []
    },
    {
      "cell_type": "code",
      "source": [
        "def calculator():\n",
        "  a=int(input(\"Enter value of a\"))\n",
        "  b=int(input(\"Enter value of b\"))\n",
        "  operator=(input(\"Enter a operator\"))\n",
        "\n",
        "  if operator ==\"+\":\n",
        "    return a+b\n",
        "  elif operator ==\"-\":\n",
        "    return a-b\n",
        "  elif operator ==\"*\":\n",
        "    return a*b\n",
        "  elif operator ==\"/\":\n",
        "    return a/b\n",
        "\n",
        "  else:\n",
        "    print(\"Invalid Operator\")\n",
        "\n",
        "calculator()\n",
        "\n"
      ],
      "metadata": {
        "colab": {
          "base_uri": "https://localhost:8080/",
          "height": 339
        },
        "id": "wutdSK-YTvXm",
        "outputId": "0d5f80c6-0e5f-41ef-a0f9-44e67f246fbe"
      },
      "execution_count": null,
      "outputs": [
        {
          "output_type": "error",
          "ename": "KeyboardInterrupt",
          "evalue": "Interrupted by user",
          "traceback": [
            "\u001b[0;31m---------------------------------------------------------------------------\u001b[0m",
            "\u001b[0;31mKeyboardInterrupt\u001b[0m                         Traceback (most recent call last)",
            "\u001b[0;32m<ipython-input-22-79cd55063d12>\u001b[0m in \u001b[0;36m<cell line: 0>\u001b[0;34m()\u001b[0m\n\u001b[1;32m     16\u001b[0m     \u001b[0mprint\u001b[0m\u001b[0;34m(\u001b[0m\u001b[0;34m\"Invalid Operator\"\u001b[0m\u001b[0;34m)\u001b[0m\u001b[0;34m\u001b[0m\u001b[0;34m\u001b[0m\u001b[0m\n\u001b[1;32m     17\u001b[0m \u001b[0;34m\u001b[0m\u001b[0m\n\u001b[0;32m---> 18\u001b[0;31m \u001b[0mcalculator\u001b[0m\u001b[0;34m(\u001b[0m\u001b[0;34m)\u001b[0m\u001b[0;34m\u001b[0m\u001b[0;34m\u001b[0m\u001b[0m\n\u001b[0m\u001b[1;32m     19\u001b[0m \u001b[0;34m\u001b[0m\u001b[0m\n",
            "\u001b[0;32m<ipython-input-22-79cd55063d12>\u001b[0m in \u001b[0;36mcalculator\u001b[0;34m()\u001b[0m\n\u001b[1;32m      1\u001b[0m \u001b[0;32mdef\u001b[0m \u001b[0mcalculator\u001b[0m\u001b[0;34m(\u001b[0m\u001b[0;34m)\u001b[0m\u001b[0;34m:\u001b[0m\u001b[0;34m\u001b[0m\u001b[0;34m\u001b[0m\u001b[0m\n\u001b[0;32m----> 2\u001b[0;31m   \u001b[0ma\u001b[0m\u001b[0;34m=\u001b[0m\u001b[0mint\u001b[0m\u001b[0;34m(\u001b[0m\u001b[0minput\u001b[0m\u001b[0;34m(\u001b[0m\u001b[0;34m\"Enter value of a\"\u001b[0m\u001b[0;34m)\u001b[0m\u001b[0;34m)\u001b[0m\u001b[0;34m\u001b[0m\u001b[0;34m\u001b[0m\u001b[0m\n\u001b[0m\u001b[1;32m      3\u001b[0m   \u001b[0mb\u001b[0m\u001b[0;34m=\u001b[0m\u001b[0mint\u001b[0m\u001b[0;34m(\u001b[0m\u001b[0minput\u001b[0m\u001b[0;34m(\u001b[0m\u001b[0;34m\"Enter value of b\"\u001b[0m\u001b[0;34m)\u001b[0m\u001b[0;34m)\u001b[0m\u001b[0;34m\u001b[0m\u001b[0;34m\u001b[0m\u001b[0m\n\u001b[1;32m      4\u001b[0m   \u001b[0moperator\u001b[0m\u001b[0;34m=\u001b[0m\u001b[0;34m(\u001b[0m\u001b[0minput\u001b[0m\u001b[0;34m(\u001b[0m\u001b[0;34m\"Enter a operator\"\u001b[0m\u001b[0;34m)\u001b[0m\u001b[0;34m)\u001b[0m\u001b[0;34m\u001b[0m\u001b[0;34m\u001b[0m\u001b[0m\n\u001b[1;32m      5\u001b[0m \u001b[0;34m\u001b[0m\u001b[0m\n",
            "\u001b[0;32m/usr/local/lib/python3.11/dist-packages/ipykernel/kernelbase.py\u001b[0m in \u001b[0;36mraw_input\u001b[0;34m(self, prompt)\u001b[0m\n\u001b[1;32m   1175\u001b[0m                 \u001b[0;34m\"raw_input was called, but this frontend does not support input requests.\"\u001b[0m\u001b[0;34m\u001b[0m\u001b[0;34m\u001b[0m\u001b[0m\n\u001b[1;32m   1176\u001b[0m             )\n\u001b[0;32m-> 1177\u001b[0;31m         return self._input_request(\n\u001b[0m\u001b[1;32m   1178\u001b[0m             \u001b[0mstr\u001b[0m\u001b[0;34m(\u001b[0m\u001b[0mprompt\u001b[0m\u001b[0;34m)\u001b[0m\u001b[0;34m,\u001b[0m\u001b[0;34m\u001b[0m\u001b[0;34m\u001b[0m\u001b[0m\n\u001b[1;32m   1179\u001b[0m             \u001b[0mself\u001b[0m\u001b[0;34m.\u001b[0m\u001b[0m_parent_ident\u001b[0m\u001b[0;34m[\u001b[0m\u001b[0;34m\"shell\"\u001b[0m\u001b[0;34m]\u001b[0m\u001b[0;34m,\u001b[0m\u001b[0;34m\u001b[0m\u001b[0;34m\u001b[0m\u001b[0m\n",
            "\u001b[0;32m/usr/local/lib/python3.11/dist-packages/ipykernel/kernelbase.py\u001b[0m in \u001b[0;36m_input_request\u001b[0;34m(self, prompt, ident, parent, password)\u001b[0m\n\u001b[1;32m   1217\u001b[0m             \u001b[0;32mexcept\u001b[0m \u001b[0mKeyboardInterrupt\u001b[0m\u001b[0;34m:\u001b[0m\u001b[0;34m\u001b[0m\u001b[0;34m\u001b[0m\u001b[0m\n\u001b[1;32m   1218\u001b[0m                 \u001b[0;31m# re-raise KeyboardInterrupt, to truncate traceback\u001b[0m\u001b[0;34m\u001b[0m\u001b[0;34m\u001b[0m\u001b[0m\n\u001b[0;32m-> 1219\u001b[0;31m                 \u001b[0;32mraise\u001b[0m \u001b[0mKeyboardInterrupt\u001b[0m\u001b[0;34m(\u001b[0m\u001b[0;34m\"Interrupted by user\"\u001b[0m\u001b[0;34m)\u001b[0m \u001b[0;32mfrom\u001b[0m \u001b[0;32mNone\u001b[0m\u001b[0;34m\u001b[0m\u001b[0;34m\u001b[0m\u001b[0m\n\u001b[0m\u001b[1;32m   1220\u001b[0m             \u001b[0;32mexcept\u001b[0m \u001b[0mException\u001b[0m\u001b[0;34m:\u001b[0m\u001b[0;34m\u001b[0m\u001b[0;34m\u001b[0m\u001b[0m\n\u001b[1;32m   1221\u001b[0m                 \u001b[0mself\u001b[0m\u001b[0;34m.\u001b[0m\u001b[0mlog\u001b[0m\u001b[0;34m.\u001b[0m\u001b[0mwarning\u001b[0m\u001b[0;34m(\u001b[0m\u001b[0;34m\"Invalid Message:\"\u001b[0m\u001b[0;34m,\u001b[0m \u001b[0mexc_info\u001b[0m\u001b[0;34m=\u001b[0m\u001b[0;32mTrue\u001b[0m\u001b[0;34m)\u001b[0m\u001b[0;34m\u001b[0m\u001b[0;34m\u001b[0m\u001b[0m\n",
            "\u001b[0;31mKeyboardInterrupt\u001b[0m: Interrupted by user"
          ]
        }
      ]
    },
    {
      "cell_type": "code",
      "source": [
        "def func2(a,b):\n",
        "  return a+b\n",
        "func2(2,5)\n"
      ],
      "metadata": {
        "colab": {
          "base_uri": "https://localhost:8080/"
        },
        "id": "d1nqeiXET4tW",
        "outputId": "c0e11060-10f6-43f3-bc6b-488c07b9508f"
      },
      "execution_count": null,
      "outputs": [
        {
          "output_type": "execute_result",
          "data": {
            "text/plain": [
              "7"
            ]
          },
          "metadata": {},
          "execution_count": 21
        }
      ]
    },
    {
      "cell_type": "markdown",
      "source": [],
      "metadata": {
        "id": "iy5qe6MWHfc3"
      }
    },
    {
      "cell_type": "code",
      "source": [
        "x=\"farhan irshad\"\n",
        "print (len(x))\n"
      ],
      "metadata": {
        "colab": {
          "base_uri": "https://localhost:8080/"
        },
        "id": "fk-crH8fV34H",
        "outputId": "8295e5bd-8c53-4c69-bb44-d230245fe3ae"
      },
      "execution_count": null,
      "outputs": [
        {
          "output_type": "stream",
          "name": "stdout",
          "text": [
            "13\n"
          ]
        }
      ]
    },
    {
      "cell_type": "code",
      "source": [
        "string1 = \"Hello\"\n",
        "string2 = \"Pyton\"\n",
        "print(string1+string2)\n",
        "\n"
      ],
      "metadata": {
        "colab": {
          "base_uri": "https://localhost:8080/"
        },
        "id": "TdGr0leMZW29",
        "outputId": "382c95a6-c683-49dc-f08e-febacc608772"
      },
      "execution_count": null,
      "outputs": [
        {
          "output_type": "stream",
          "name": "stdout",
          "text": [
            "HelloPyton\n"
          ]
        }
      ]
    },
    {
      "cell_type": "code",
      "source": [],
      "metadata": {
        "id": "rUrRY3bC6JZl"
      },
      "execution_count": null,
      "outputs": []
    },
    {
      "cell_type": "code",
      "source": [
        "def calculator():\n",
        "  a=int(input(\"Enter a Value of A \"))\n",
        "  b=int(input(\"Enter a Value of B \"))\n",
        "  operator=input(\"Enter a Operator \")\n",
        "\n",
        "  if operator == \"+\":\n",
        "    return a+b8\n",
        "  elif operator == \"-\":\n",
        "    return a-b\n",
        "  elif operator == \"*\":\n",
        "    return a*b\n",
        "  elif operator == \"/\":\n",
        "    return a/b\n",
        "  elif operator == \"%\":\n",
        "    return a%b\n",
        "  else:\n",
        "    print(\"Invalid operator\")\n",
        "\n",
        "calculator ()"
      ],
      "metadata": {
        "colab": {
          "base_uri": "https://localhost:8080/"
        },
        "id": "yOVCNd3mCa-4",
        "outputId": "2d50b15c-8136-4209-e655-6a995d4203c3"
      },
      "execution_count": null,
      "outputs": [
        {
          "name": "stdout",
          "output_type": "stream",
          "text": [
            "Enter a Value of A 8\n",
            "Enter a Value of B 8\n",
            "Enter a Operator *\n"
          ]
        },
        {
          "output_type": "execute_result",
          "data": {
            "text/plain": [
              "64"
            ]
          },
          "metadata": {},
          "execution_count": 5
        }
      ]
    },
    {
      "cell_type": "code",
      "source": [
        "def Hello():\n",
        "  print (\"Hello world\")\n",
        "Hello()\n",
        "\n",
        "a=(\"Hello world \")\n",
        "print(a)\n",
        "b=(\"Farhan Irshad\")\n",
        "print(b)"
      ],
      "metadata": {
        "colab": {
          "base_uri": "https://localhost:8080/"
        },
        "id": "ub58bp7w6MUR",
        "outputId": "bc5853f7-c1de-4d45-9e80-a35bf7fadd40"
      },
      "execution_count": null,
      "outputs": [
        {
          "output_type": "stream",
          "name": "stdout",
          "text": [
            "Hello world\n",
            "Hello world \n",
            "Farhan Irshad\n"
          ]
        }
      ]
    },
    {
      "cell_type": "code",
      "source": [
        "def calculator():\n",
        "  a=int(input(\"Enter a value a \"))\n",
        "  b=int(input(\"Enter a value b \"))\n",
        "  operator=(input(\"Enter a opertor\"))\n",
        "\n",
        "  if operator == \"+\":\n",
        "    return a+b\n",
        "  elif operator == \"-\":\n",
        "    return a-b\n",
        "  elif operator == \"/\":\n",
        "    return a/b\n",
        "  elif operator == \"*\":\n",
        "    return a*b\n",
        "  else:\n",
        "    print(\"Invalid operator \")\n",
        "calculator()\n",
        "\n"
      ],
      "metadata": {
        "colab": {
          "base_uri": "https://localhost:8080/"
        },
        "id": "E1yF07vu7T-Z",
        "outputId": "b0b67a37-830e-4705-86a8-505d21858e7d"
      },
      "execution_count": null,
      "outputs": [
        {
          "name": "stdout",
          "output_type": "stream",
          "text": [
            "Enter a value a 4\n",
            "Enter a value b 5\n",
            "Enter a opertor*\n"
          ]
        },
        {
          "output_type": "execute_result",
          "data": {
            "text/plain": [
              "20"
            ]
          },
          "metadata": {},
          "execution_count": 14
        }
      ]
    },
    {
      "cell_type": "code",
      "source": [
        "def Grading():\n",
        "  name = (\"GRADING SYSTEM \")\n",
        "  print(name)\n",
        "  marks = int(input(\"Enter Marks Here \"))\n",
        "\n",
        "  if (marks >=90):\n",
        "    return(\"Grade A\" )\n",
        "  elif (marks >=80):\n",
        "    return(\"Grade B \")\n",
        "  elif (marks >=70):\n",
        "    return(\"Grade C \")\n",
        "  elif (marks >=60):\n",
        "    return(\"Grade D \")\n",
        "  elif (marks >=50):\n",
        "    return(\"Grade E \")\n",
        "  else:\n",
        "    (\"Sorry You Are Fail \")\n",
        "\n",
        "Grading()\n"
      ],
      "metadata": {
        "id": "OwogzSar9y7n",
        "colab": {
          "base_uri": "https://localhost:8080/",
          "height": 70
        },
        "outputId": "25b3c63b-01c9-4c91-af20-cca2862dd1d1"
      },
      "execution_count": null,
      "outputs": [
        {
          "name": "stdout",
          "output_type": "stream",
          "text": [
            "GRADING SYSTEM \n",
            "Enter Marks Here 55\n"
          ]
        },
        {
          "output_type": "execute_result",
          "data": {
            "text/plain": [
              "'Grade E '"
            ],
            "application/vnd.google.colaboratory.intrinsic+json": {
              "type": "string"
            }
          },
          "metadata": {},
          "execution_count": 11
        }
      ]
    },
    {
      "cell_type": "code",
      "source": [],
      "metadata": {
        "id": "QxNJlHJ-Z8me"
      },
      "execution_count": null,
      "outputs": []
    },
    {
      "cell_type": "code",
      "source": [
        "def color():\n",
        "\n",
        "  light = input(\"Enter Color Here \")\n",
        "\n",
        "  if (light == \"red\"):\n",
        "    return(\"Stop\")\n",
        "  elif (light == \"yellow\"):\n",
        "    return(\"Watch Both Side\")\n",
        "  elif (light == \"green\"):\n",
        "    return(\"Go\")\n",
        "  elif (light == \"white\"):\n",
        "    return(\"Wait here\")\n",
        "  elif (light == \"pink\"):\n",
        "    return(\"Good\")\n",
        "  else:\n",
        "    (\"Dont Move wait for green light \")\n",
        "\n",
        "color()"
      ],
      "metadata": {
        "colab": {
          "base_uri": "https://localhost:8080/"
        },
        "collapsed": true,
        "id": "Bmn8UFIcuj85",
        "outputId": "3e8d3733-42c6-4347-9d66-123a158d884e"
      },
      "execution_count": null,
      "outputs": [
        {
          "name": "stdout",
          "output_type": "stream",
          "text": [
            "Enter Color Here black\n"
          ]
        }
      ]
    },
    {
      "cell_type": "code",
      "source": [
        "\n",
        "  string1 = \"(Hello \"\n",
        "  string2 = \"world) \"\n",
        "  string3 = \"well come\"\n",
        "  name = (\"To Farhan \")\n",
        "\n",
        "  print(string1+string2+ string3, name)"
      ],
      "metadata": {
        "colab": {
          "base_uri": "https://localhost:8080/"
        },
        "id": "86OuRDE3y1eM",
        "outputId": "e4b818b0-2aff-4f98-fc3d-9afdaff871ad"
      },
      "execution_count": null,
      "outputs": [
        {
          "output_type": "stream",
          "name": "stdout",
          "text": [
            "(Hello world) well come To Farhan \n"
          ]
        }
      ]
    },
    {
      "cell_type": "code",
      "source": [
        "def calculator():\n",
        "  a=int(input(\"Enter A Value A \"))\n",
        "  b=int(input(\"Enter A value B \"))\n",
        "  operator=(input(\"Enter A Operator \"))\n",
        "\n",
        "  if operator ==\"+\":\n",
        "    return a+b\n",
        "  elif operator ==\"-\":\n",
        "    return a-b\n",
        "  elif operator ==\"*\":\n",
        "    return a*b\n",
        "  else:\n",
        "    print(\"Invalid Operator \")\n",
        "\n",
        "calculator()\n"
      ],
      "metadata": {
        "colab": {
          "base_uri": "https://localhost:8080/"
        },
        "id": "LE_Xp-pmJzjF",
        "outputId": "ebdb49cd-7b5c-4555-9ad7-2a944cf60c59"
      },
      "execution_count": null,
      "outputs": [
        {
          "name": "stdout",
          "output_type": "stream",
          "text": [
            "Enter A Value A 5\n",
            "Enter A value B 4\n",
            "Enter A Operator -\n"
          ]
        },
        {
          "output_type": "execute_result",
          "data": {
            "text/plain": [
              "1"
            ]
          },
          "metadata": {},
          "execution_count": 129
        }
      ]
    },
    {
      "cell_type": "code",
      "source": [
        "def side():\n",
        "\n",
        "  a = input(\"Enter side\")\n",
        "\n",
        "  if a == \"right\":\n",
        "    return \"Go Right Side \"\n",
        "  elif a == \"left\":\n",
        "    return \"Go left Side \"\n",
        "  elif a == \"up\":\n",
        "    return \"Go up side \"\n",
        "  elif a == \"down\":\n",
        "    return \"Go Down Side \"\n",
        "\n",
        "  else:\n",
        "    return\" worng side entered \"\n",
        "\n",
        "side()"
      ],
      "metadata": {
        "id": "l09fkAwALVs_"
      },
      "execution_count": null,
      "outputs": []
    },
    {
      "cell_type": "code",
      "source": [
        "radius = int(input(\"Enter the ridius of Circle = \"))\n",
        "area = 3.14**2\n",
        "print (area)"
      ],
      "metadata": {
        "id": "5XsbncBpaBW6"
      },
      "execution_count": null,
      "outputs": []
    },
    {
      "cell_type": "code",
      "source": [
        "side = int(input(\"Enter the value side \"))\n",
        "area = side * side\n",
        "print (area)\n"
      ],
      "metadata": {
        "id": "s5QNVwcvbWP7"
      },
      "execution_count": null,
      "outputs": []
    },
    {
      "cell_type": "code",
      "source": [
        "#Area of Triangle\n",
        "b = float (input(\"Enter a Base: \"))\n",
        "h = float (input(\"Enter a Base: \"))\n",
        "area = 0.5*b*h\n",
        "print(\" Area of Triangle \", area)"
      ],
      "metadata": {
        "id": "4llYajprcEEd"
      },
      "execution_count": null,
      "outputs": []
    },
    {
      "cell_type": "code",
      "source": [
        "#Data anyalatic\n",
        "\n",
        "\n",
        "string1 = 'Welcome to the AI Class '\n",
        "print(string1)\n",
        "string2 = \"I'am a Python \"\n",
        "print(string2)"
      ],
      "metadata": {
        "id": "jqqXuRo4lrft"
      },
      "execution_count": null,
      "outputs": []
    },
    {
      "cell_type": "code",
      "source": [
        "string1 = \"Artificiallnterlligence\"\n",
        "print(string1)\n",
        "print(string1[0])\n",
        "\n",
        "string2 = \"Artificiallnterlligence\"\n",
        "print(string2)\n",
        "print(string1[-2])\n",
        "\n",
        "string3 = \"Farhan\"\n",
        "print(string3)\n",
        "print(string3[-6])\n",
        "\n",
        "string4 = 'Respected Sir Muhammad Ali'\n",
        "print(string4)\n",
        "print(string4[14])\n",
        "print(string4[-3])\n"
      ],
      "metadata": {
        "id": "8D9ep0EZmFpM"
      },
      "execution_count": null,
      "outputs": []
    },
    {
      "cell_type": "code",
      "source": [
        "Mystring = 'learn Python'\n",
        "print(Mystring[0:5])\n",
        "print(Mystring[-12:-7], \"\\n\")\n",
        "print(Mystring[6:])\n",
        "print(Mystring[:-7], \"\\n\")\n",
        "print(Mystring[:])\n",
        "\n",
        ""
      ],
      "metadata": {
        "colab": {
          "base_uri": "https://localhost:8080/"
        },
        "id": "zyFOnoIPrRt3",
        "outputId": "54091ce7-6c50-429f-da47-3b07bc04283e"
      },
      "execution_count": 48,
      "outputs": [
        {
          "output_type": "stream",
          "name": "stdout",
          "text": [
            "learn\n",
            "learn \n",
            "\n",
            "Python\n",
            "learn \n",
            "\n",
            "learn Python\n"
          ]
        }
      ]
    },
    {
      "cell_type": "code",
      "source": [
        "Mystring = 'learn Python'\n",
        "print(Mystring[0:5])\n",
        "print(Mystring[-12:-7], \"\\n\")"
      ],
      "metadata": {
        "id": "Nrj4y50QsKlt"
      },
      "execution_count": null,
      "outputs": []
    },
    {
      "cell_type": "code",
      "source": [
        "#Slysing\n",
        "\n",
        "x=\"Python Class\"\n",
        "print(x[::-1]) #back word\n",
        "print(x[0:6:2]) #forward steping 2\n",
        "\n",
        "x=[1,2,3,4,5] #index\n",
        "print(x.index(3))\n",
        "\n",
        "x='Farhan' # Alphabit\n",
        "print(x.index('h'))\n",
        "print(x.index('n'))\n",
        "\n"
      ],
      "metadata": {
        "id": "TahyB_XJxYII"
      },
      "execution_count": null,
      "outputs": []
    },
    {
      "cell_type": "code",
      "source": [
        "x=\"Python Class\"\n",
        "print(x[::-1])\n",
        "print(x[::-2])"
      ],
      "metadata": {
        "id": "V9FRibV1zl5Q",
        "outputId": "6860aa87-9263-4400-8ce3-7b51db025c2e",
        "colab": {
          "base_uri": "https://localhost:8080/"
        }
      },
      "execution_count": 43,
      "outputs": [
        {
          "output_type": "stream",
          "name": "stdout",
          "text": [
            "ssalC nohtyP\n",
            "saCnhy\n"
          ]
        }
      ]
    },
    {
      "cell_type": "code",
      "source": [
        "x=\"Python Class\"\n",
        "print(x[0:6:1])"
      ],
      "metadata": {
        "id": "RFVHURlp0aw4",
        "outputId": "eb46054c-a0f6-48b6-d422-a9667311e1da",
        "colab": {
          "base_uri": "https://localhost:8080/"
        }
      },
      "execution_count": 47,
      "outputs": [
        {
          "output_type": "stream",
          "name": "stdout",
          "text": [
            "Python\n"
          ]
        }
      ]
    },
    {
      "cell_type": "code",
      "source": [
        "x='farhan irshad'\n",
        "print(x.index('i'))"
      ],
      "metadata": {
        "id": "PZYQzlXS1j3i",
        "outputId": "df1cd6aa-b1dc-4297-ecd4-a84aa06c3d0b",
        "colab": {
          "base_uri": "https://localhost:8080/"
        }
      },
      "execution_count": 51,
      "outputs": [
        {
          "output_type": "stream",
          "name": "stdout",
          "text": [
            "7\n"
          ]
        }
      ]
    },
    {
      "cell_type": "code",
      "source": [
        "x=[1,2,3,4,5,6]\n",
        "print(x.index(4))"
      ],
      "metadata": {
        "id": "TnZMTVMs0yo7",
        "outputId": "ea802a40-3de6-4e90-8489-87568db7bba2",
        "colab": {
          "base_uri": "https://localhost:8080/"
        }
      },
      "execution_count": 52,
      "outputs": [
        {
          "output_type": "stream",
          "name": "stdout",
          "text": [
            "3\n"
          ]
        }
      ]
    },
    {
      "cell_type": "code",
      "source": [
        "# 17.03.2025 \"Assessment\" x=[1,2,3,3,3,4,5,5]Extract any three middle values, extract all values except first and last,\n",
        "#extract every third values, reverse first half values"
      ],
      "metadata": {
        "id": "Ia7s-ykR2yx8"
      },
      "execution_count": null,
      "outputs": []
    },
    {
      "cell_type": "code",
      "source": [
        "x=[1,2,3,3,3,4,5,5]\n",
        "print(x[0:2])"
      ],
      "metadata": {
        "id": "9s-0Vdvn3b8N"
      },
      "execution_count": null,
      "outputs": []
    }
  ]
}