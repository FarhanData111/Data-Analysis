{
  "cells": [
    {
      "cell_type": "code",
      "execution_count": null,
      "metadata": {
        "colab": {
          "base_uri": "https://localhost:8080/"
        },
        "id": "sEr72aO59_uC",
        "outputId": "f69305f1-d420-47ca-f139-627c6be7203b"
      },
      "outputs": [
        {
          "name": "stdout",
          "output_type": "stream",
          "text": [
            "learn python\n",
            "farhan ahmed\n"
          ]
        }
      ],
      "source": [
        "string1=\"learn\"\n",
        "string2=\"python\"\n",
        "farhan=string1 + \" \" + string2\n",
        "print(farhan)\n",
        "\n",
        "a=\"farhan\"\n",
        "b=\"ahmed\"\n",
        "print(a+ \" \" +b)\n"
      ]
    },
    {
      "cell_type": "code",
      "execution_count": null,
      "metadata": {
        "colab": {
          "base_uri": "https://localhost:8080/"
        },
        "id": "MUO3vus78U5k",
        "outputId": "3d4d925c-80ec-4929-faac-e5e7c3348272"
      },
      "outputs": [
        {
          "output_type": "stream",
          "name": "stdout",
          "text": [
            "1\n",
            "3\n",
            "2\n",
            "1997\n",
            "5\n",
            "('a', 'b', 'c', 'd')\n",
            "[2000, 1997, 'chemistry', 'physics']\n",
            "['physics', 'chemistry']\n",
            "['chemistry', 'physics']\n"
          ]
        }
      ],
      "source": [
        "list1=['physics', 'chemistry', 1997, 2000];\n",
        "list2=[1, 2, 3, 4, 5];\n",
        "list3=\"a\", \"b\", \"c\", \"d\"\n",
        "\n",
        "print (list1.index('chemistry'))\n",
        "print (list2.index(4))\n",
        "print (list3.index(\"c\"))\n",
        "print (list1[2])\n",
        "print (list2[-1])\n",
        "print (list3[0:4])\n",
        "print (list1[::-1])\n",
        "print (list1[0:2:])\n",
        "print (list1[1::-1])\n"
      ]
    },
    {
      "cell_type": "code",
      "execution_count": null,
      "metadata": {
        "colab": {
          "base_uri": "https://localhost:8080/"
        },
        "id": "3Gn_19NvCLdG",
        "outputId": "61aab350-a57e-44fe-f2db-27542fb676eb"
      },
      "outputs": [
        {
          "output_type": "stream",
          "name": "stdout",
          "text": [
            "[[1, 2, 3], [4, 5, 6]]\n",
            "2 5 8 11\n",
            "3 6 9 12\n",
            "1 5 9 12\n"
          ]
        }
      ],
      "source": [
        "matrix = [[1, 2, 3],\n",
        "          [4, 5, 6],         #extract the first two rows\n",
        "          [7, 8, 9],\n",
        "          [10, 11, 12]]\n",
        "print(matrix[0:2])          #extract only the second column from all rows\n",
        "\n",
        "print(matrix[0][1], matrix[1][1], matrix[2][1], matrix[3][1])\n",
        "                           #extract only the third column from all rows\n",
        "print(matrix[0][2], matrix[1][2], matrix[2][2], matrix[3][2])\n",
        "                            #extract only cross value lift to right\n",
        "print(matrix[0][0], matrix[1][1], matrix[2][2], matrix[3][2])\n"
      ]
    },
    {
      "cell_type": "code",
      "execution_count": null,
      "metadata": {
        "colab": {
          "base_uri": "https://localhost:8080/"
        },
        "id": "6SY14FbjGhjm",
        "outputId": "f18585c3-0f29-4fb8-86e0-e8c902fee5ff"
      },
      "outputs": [
        {
          "output_type": "stream",
          "name": "stdout",
          "text": [
            "[30, 28, 40, 45, 38]\n",
            "[40, 45, 38, 36, 33]\n",
            "[32, 35, 30, 28]\n"
          ]
        }
      ],
      "source": [
        "temperatures = [32, 35, 30, 28, 40, 45, 38, 36, 33]           #Extract tem from index 2 to 6\n",
        "print(temperatures[2:7])                                             #Extract tem from index 4 to the end\n",
        "print(temperatures[4:])                                              #Extract tem from index 0 to 3\n",
        "print(temperatures[:4])"
      ]
    },
    {
      "cell_type": "code",
      "execution_count": null,
      "metadata": {
        "colab": {
          "base_uri": "https://localhost:8080/"
        },
        "id": "l8Z7_z3Tx7sY",
        "outputId": "8a5381ec-4e87-49aa-8a4f-5dfbfd0f46cf"
      },
      "outputs": [
        {
          "output_type": "stream",
          "name": "stdout",
          "text": [
            "['red', 'green', 'purple', 'pink']\n",
            "['red', 'yellow', 'pink']\n"
          ]
        }
      ],
      "source": [
        "colors = ['red', 'blue', 'green', 'yellow', 'purple', 'orange', 'pink']    #Extract every second color\n",
        "print(colors[::2])                                                                #Extract every third color\n",
        "print(colors[::3])"
      ]
    },
    {
      "cell_type": "code",
      "execution_count": null,
      "metadata": {
        "colab": {
          "base_uri": "https://localhost:8080/"
        },
        "id": "lmo92LEZyUOl",
        "outputId": "a80fdeb4-aaaa-4002-fd4a-3f041d41c13d"
      },
      "outputs": [
        {
          "output_type": "stream",
          "name": "stdout",
          "text": [
            "[5, 15, 25, 35, 45]\n",
            "[10, 20, 30, 40, 50]\n",
            "[5, 15, 25, 35, 45]\n"
          ]
        }
      ],
      "source": [
        "number = [5, 10, 15, 20, 25, 30, 35, 40, 45, 50]               #Extract element at odd indices\n",
        "print(number[0::2])                                                    #Extract element at even indices\n",
        "print(number[1::2])                                                     #Extract every third element starting from index2\n",
        "print(number[0::2])\n"
      ]
    }
  ],
  "metadata": {
    "colab": {
      "provenance": []
    },
    "kernelspec": {
      "display_name": "Python 3",
      "name": "python3"
    },
    "language_info": {
      "name": "python"
    }
  },
  "nbformat": 4,
  "nbformat_minor": 0
}